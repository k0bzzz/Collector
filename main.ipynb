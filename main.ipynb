{
 "cells": [
  {
   "cell_type": "markdown",
   "id": "8ac3ea47-b038-4d9d-99f0-2dc60bfee8e2",
   "metadata": {},
   "source": [
    "# Идеи\n",
    "\n",
    "1. Эмбеддинги самари и коментарии\n",
    "2. Часовые пояса у пользователей\n",
    "3. Порядковые номера тасков внутри проекта                     +++\n",
    "4. Количество одновременно назначенных тасков у пользователя\n",
    "5. Количество комментариев у таска                             +++"
   ]
  },
  {
   "cell_type": "code",
   "execution_count": null,
   "id": "ac88efaa-47a2-4c3b-8823-4b77f3569dac",
   "metadata": {},
   "outputs": [],
   "source": [
    "import pandas as pd\n",
    "import seaborn as sns\n",
    "import matplotlib.pyplot as plt\n",
    "import numpy as np\n",
    "import nltk\n",
    "import pymorphy2\n",
    "from sklearn.model_selection import train_test_split\n",
    "from sklearn.metrics import r2_score\n",
    "from catboost import CatBoostRegressor\n",
    "from collections import Counter\n",
    "import lightgbm\n",
    "\n",
    "from sentence_transformers import SentenceTransformer\n",
    "from sklearn.cluster import AgglomerativeClustering\n",
    "\n",
    "from transformers import AutoTokenizer, AutoModel\n",
    "from umap.umap_ import UMAP\n",
    "import torch\n",
    "\n",
    "%matplotlib inline"
   ]
  },
  {
   "cell_type": "code",
   "execution_count": null,
   "id": "e04220ca-c32a-41a7-b1f0-7f6a22c80f6d",
   "metadata": {},
   "outputs": [],
   "source": [
    "TOKENIZER = AutoTokenizer.from_pretrained(\"cointegrated/rubert-tiny2\")\n",
    "BERT = AutoModel.from_pretrained(\"cointegrated/rubert-tiny2\")\n",
    "MORPH = pymorphy2.MorphAnalyzer()\n"
   ]
  },
  {
   "cell_type": "code",
   "execution_count": 625,
   "id": "03378fb0-ae0e-4270-8b6d-1fbbd3e6ada5",
   "metadata": {},
   "outputs": [],
   "source": [
    "df_issues_train = pd.read_csv(\"data/train_issues.csv\")\n",
    "df_comment_train = pd.read_csv(\"data/train_comments.csv\")\n",
    "\n",
    "df_issues_test = pd.read_csv(\"data/test_issues.csv\")\n",
    "df_comment_test = pd.read_csv(\"data/test_comments.csv\")\n",
    "\n",
    "df_emp = pd.read_csv(\"data/employees.csv\")"
   ]
  },
  {
   "cell_type": "code",
   "execution_count": 626,
   "id": "34cffd58-5a23-4471-92d2-9f86a62394dd",
   "metadata": {},
   "outputs": [],
   "source": [
    "df_issues_test['overall_worklogs'] = -1\n",
    "df_all = pd.concat([df_issues_train, df_issues_test])\n",
    "df_all_com = pd.concat([df_comment_train, df_comment_test])"
   ]
  },
  {
   "cell_type": "code",
   "execution_count": 627,
   "id": "29cc64dd-feb7-468c-bd4c-1f02e866cd0b",
   "metadata": {},
   "outputs": [
    {
     "data": {
      "text/html": [
       "<div>\n",
       "<style scoped>\n",
       "    .dataframe tbody tr th:only-of-type {\n",
       "        vertical-align: middle;\n",
       "    }\n",
       "\n",
       "    .dataframe tbody tr th {\n",
       "        vertical-align: top;\n",
       "    }\n",
       "\n",
       "    .dataframe thead th {\n",
       "        text-align: right;\n",
       "    }\n",
       "</style>\n",
       "<table border=\"1\" class=\"dataframe\">\n",
       "  <thead>\n",
       "    <tr style=\"text-align: right;\">\n",
       "      <th></th>\n",
       "      <th>id</th>\n",
       "      <th>created</th>\n",
       "      <th>key</th>\n",
       "      <th>summary</th>\n",
       "      <th>project_id</th>\n",
       "      <th>assignee_id</th>\n",
       "      <th>creator_id</th>\n",
       "      <th>overall_worklogs</th>\n",
       "    </tr>\n",
       "  </thead>\n",
       "  <tbody>\n",
       "    <tr>\n",
       "      <th>0</th>\n",
       "      <td>819952</td>\n",
       "      <td>2019-10-01 05:57:18.000</td>\n",
       "      <td>SM-10678</td>\n",
       "      <td>UI тесты по заказу \"Добро КейДжи\"</td>\n",
       "      <td>5</td>\n",
       "      <td>93</td>\n",
       "      <td>93</td>\n",
       "      <td>1800</td>\n",
       "    </tr>\n",
       "    <tr>\n",
       "      <th>1</th>\n",
       "      <td>819949</td>\n",
       "      <td>2019-10-01 05:59:45.000</td>\n",
       "      <td>SM-10679</td>\n",
       "      <td>UI тесты раздела \"Профиль\"</td>\n",
       "      <td>5</td>\n",
       "      <td>93</td>\n",
       "      <td>93</td>\n",
       "      <td>7200</td>\n",
       "    </tr>\n",
       "    <tr>\n",
       "      <th>2</th>\n",
       "      <td>819947</td>\n",
       "      <td>2019-10-01 06:00:38.000</td>\n",
       "      <td>SM-10680</td>\n",
       "      <td>UI тесты раздела \"Личный счет\"</td>\n",
       "      <td>5</td>\n",
       "      <td>93</td>\n",
       "      <td>93</td>\n",
       "      <td>14400</td>\n",
       "    </tr>\n",
       "    <tr>\n",
       "      <th>3</th>\n",
       "      <td>819943</td>\n",
       "      <td>2019-10-01 06:02:49.000</td>\n",
       "      <td>SM-10682</td>\n",
       "      <td>UI тесты раздела \"Новости\"</td>\n",
       "      <td>5</td>\n",
       "      <td>93</td>\n",
       "      <td>93</td>\n",
       "      <td>900</td>\n",
       "    </tr>\n",
       "    <tr>\n",
       "      <th>4</th>\n",
       "      <td>819941</td>\n",
       "      <td>2019-10-01 06:03:26.000</td>\n",
       "      <td>SM-10683</td>\n",
       "      <td>UI тесты раздела \"Зоны скидок и доплат\"</td>\n",
       "      <td>5</td>\n",
       "      <td>93</td>\n",
       "      <td>93</td>\n",
       "      <td>900</td>\n",
       "    </tr>\n",
       "    <tr>\n",
       "      <th>...</th>\n",
       "      <td>...</td>\n",
       "      <td>...</td>\n",
       "      <td>...</td>\n",
       "      <td>...</td>\n",
       "      <td>...</td>\n",
       "      <td>...</td>\n",
       "      <td>...</td>\n",
       "      <td>...</td>\n",
       "    </tr>\n",
       "    <tr>\n",
       "      <th>1065</th>\n",
       "      <td>702545</td>\n",
       "      <td>2020-09-24 11:21:57.000</td>\n",
       "      <td>ADBKRK-1392</td>\n",
       "      <td>Order to fix: audit result &amp; save root cause</td>\n",
       "      <td>48</td>\n",
       "      <td>1</td>\n",
       "      <td>1</td>\n",
       "      <td>-1</td>\n",
       "    </tr>\n",
       "    <tr>\n",
       "      <th>1066</th>\n",
       "      <td>702528</td>\n",
       "      <td>2020-09-28 14:09:35.000</td>\n",
       "      <td>ADBKRK-1402</td>\n",
       "      <td>Lỗi EPC không tải trang được</td>\n",
       "      <td>48</td>\n",
       "      <td>1</td>\n",
       "      <td>1</td>\n",
       "      <td>-1</td>\n",
       "    </tr>\n",
       "    <tr>\n",
       "      <th>1067</th>\n",
       "      <td>702499</td>\n",
       "      <td>2020-10-06 13:51:25.000</td>\n",
       "      <td>ADBKRK-1422</td>\n",
       "      <td>Line red cannot calling out from system: Audit...</td>\n",
       "      <td>48</td>\n",
       "      <td>1</td>\n",
       "      <td>1</td>\n",
       "      <td>-1</td>\n",
       "    </tr>\n",
       "    <tr>\n",
       "      <th>1068</th>\n",
       "      <td>702376</td>\n",
       "      <td>2020-11-05 15:40:21.000</td>\n",
       "      <td>ADBKRK-1493</td>\n",
       "      <td>ipphone problem: push &amp; audit result</td>\n",
       "      <td>48</td>\n",
       "      <td>1</td>\n",
       "      <td>1</td>\n",
       "      <td>-1</td>\n",
       "    </tr>\n",
       "    <tr>\n",
       "      <th>1069</th>\n",
       "      <td>670929</td>\n",
       "      <td>2020-06-12 03:18:53.000</td>\n",
       "      <td>LJ-6</td>\n",
       "      <td>Build one graph according to existing datasets</td>\n",
       "      <td>56</td>\n",
       "      <td>2</td>\n",
       "      <td>2</td>\n",
       "      <td>-1</td>\n",
       "    </tr>\n",
       "  </tbody>\n",
       "</table>\n",
       "<p>10659 rows × 8 columns</p>\n",
       "</div>"
      ],
      "text/plain": [
       "          id                  created          key  \\\n",
       "0     819952  2019-10-01 05:57:18.000     SM-10678   \n",
       "1     819949  2019-10-01 05:59:45.000     SM-10679   \n",
       "2     819947  2019-10-01 06:00:38.000     SM-10680   \n",
       "3     819943  2019-10-01 06:02:49.000     SM-10682   \n",
       "4     819941  2019-10-01 06:03:26.000     SM-10683   \n",
       "...      ...                      ...          ...   \n",
       "1065  702545  2020-09-24 11:21:57.000  ADBKRK-1392   \n",
       "1066  702528  2020-09-28 14:09:35.000  ADBKRK-1402   \n",
       "1067  702499  2020-10-06 13:51:25.000  ADBKRK-1422   \n",
       "1068  702376  2020-11-05 15:40:21.000  ADBKRK-1493   \n",
       "1069  670929  2020-06-12 03:18:53.000         LJ-6   \n",
       "\n",
       "                                                summary  project_id  \\\n",
       "0                     UI тесты по заказу \"Добро КейДжи\"           5   \n",
       "1                            UI тесты раздела \"Профиль\"           5   \n",
       "2                        UI тесты раздела \"Личный счет\"           5   \n",
       "3                            UI тесты раздела \"Новости\"           5   \n",
       "4               UI тесты раздела \"Зоны скидок и доплат\"           5   \n",
       "...                                                 ...         ...   \n",
       "1065       Order to fix: audit result & save root cause          48   \n",
       "1066                       Lỗi EPC không tải trang được          48   \n",
       "1067  Line red cannot calling out from system: Audit...          48   \n",
       "1068              ipphone problem: push & audit result           48   \n",
       "1069     Build one graph according to existing datasets          56   \n",
       "\n",
       "      assignee_id  creator_id  overall_worklogs  \n",
       "0              93          93              1800  \n",
       "1              93          93              7200  \n",
       "2              93          93             14400  \n",
       "3              93          93               900  \n",
       "4              93          93               900  \n",
       "...           ...         ...               ...  \n",
       "1065            1           1                -1  \n",
       "1066            1           1                -1  \n",
       "1067            1           1                -1  \n",
       "1068            1           1                -1  \n",
       "1069            2           2                -1  \n",
       "\n",
       "[10659 rows x 8 columns]"
      ]
     },
     "execution_count": 627,
     "metadata": {},
     "output_type": "execute_result"
    }
   ],
   "source": [
    "df_all"
   ]
  },
  {
   "cell_type": "markdown",
   "id": "5e10a2d2-d11a-47a3-9534-757fd96850af",
   "metadata": {},
   "source": [
    "### Предобработка"
   ]
  },
  {
   "cell_type": "code",
   "execution_count": 624,
   "id": "cb4a26f3-a983-4c0d-804d-67eb7033e656",
   "metadata": {},
   "outputs": [],
   "source": [
    "# ОБЪЕДИНЕНИЕ ВСЕХ ТЕКСТОВЫХ ДАННЫХ\n",
    "def concat_all_text(X):    \n",
    "    com_df = pd.merge(X, df_all_com, left_on=\"id\", right_on=\"issue_id\", how='left')\n",
    "    com_df.text = com_df.text.fillna('')\n",
    "    all_text = {}\n",
    "    for val in X.id:\n",
    "        all_text[val] = com_df[com_df.id == val].summary.iloc[0]\n",
    "        all_text[val] += ' '.join([text for text in com_df[com_df.id == val].text.values])\n",
    "    X['all_text'] = all_text.values()\n",
    "    \n",
    "# ДАТА И ВРЕМЯ\n",
    "def encode_date(X):\n",
    "    X.created = pd.to_datetime(X.created)\n",
    "    X['day'] = X.created.dt.strftime('%d').astype(int)\n",
    "    X['month'] = X.created.dt.strftime('%m-%y')\n",
    "    X['hour'] = X.created.dt.strftime(\"%H\").astype(int)\n",
    "    X['day_of_week'] = X.created.dt.strftime(\"%w\").astype(int)\n",
    "    X.drop('created', axis=1, inplace=True)\n",
    "\n",
    "# КОЛИЧЕСТВО И ДЛИНА КОММЕНТАРИЕВ\n",
    "def process_coments(X):\n",
    "    com_df = pd.DataFrame(pd.merge(X, df_all_com, left_on=\"id\", right_on=\"issue_id\", how='left'))\n",
    "    com_df.text = com_df.text.astype('str')\n",
    "    com_df.text = com_df.text.apply(len).astype('int')\n",
    "    counts = com_df.groupby('id').comment_id.count()\n",
    "    lens = com_df.groupby('id').text.sum()\n",
    "    X['comments_count'] = pd.merge(X, counts, left_on='id', right_index=True).comment_id\n",
    "    X['comments_len'] = pd.merge(X, lens, left_on='id', right_index=True).text\n",
    "    \n",
    "# ИНФОРМАЦИЯ ОБ ИСПОЛНИТЕЛЕ\n",
    "def get_assignee_info(X):\n",
    "    df = pd.merge(X, df_emp, left_on='assignee_id', right_on='id', how='left')\n",
    "    df.fillna('unknown', inplace=True)\n",
    "    col_list = ['position', 'hiring_type', 'payment_type', 'passport', 'is_nda_signed', 'is_labor_contract_signed', 'is_added_to_internal_chats', 'is_added_one_to_one']\n",
    "    X[col_list] = df[col_list]\n",
    "\n",
    "# СТАТИСТИКИ СОТРУДНИКОВ\n",
    "def get_stats(X, field):\n",
    "    train_df = X[X.overall_worklogs != -1]\n",
    "    stats_df = train_df.groupby(field).agg({'overall_worklogs': [min, max, np.mean, np.median, np.std]})\n",
    "    stats_df.columns = [f'{field.split(\"_\")[0]}_{i}_time' for i in stats_df.columns.droplevel(0)]\n",
    "    X[stats_df.columns] = pd.merge(X, stats_df, left_on=field, right_index=True, how='left')[stats_df.columns]\n",
    "    \n",
    "# TF-IDF UMAP\n",
    "def preprocess(text: str) -> list:\n",
    "    tokenized = nltk.word_tokenize(text.lower())\n",
    "    normalized = [morph.parse(word)[0].normal_form for word in tokenized\n",
    "                  if len(word) > 1 and word.isalpha()]\n",
    "    return normalized\n",
    "\n",
    "def tf_idf(freqs):\n",
    "    return (freqs / (freqs.sum(axis=1) + 0.0001)[:, np.newaxis] ) * np.log(freqs.shape[0] / ((freqs >= 1).sum(axis=0) + 1))\n",
    "\n",
    "def mess_to_vec(vocab: dict, message: list):\n",
    "    vec = np.zeros(len(vocab) + 1)\n",
    "    for token in message:\n",
    "        if token in vocab:\n",
    "            vec[vocab[token]] += 1\n",
    "        else:\n",
    "            vec[0] += 1\n",
    "    return vec\n",
    "\n",
    "def get_vocab(messages: list) -> dict:\n",
    "    vocab = {}\n",
    "    pos = 1\n",
    "    cc = Counter()\n",
    "    for message in messages:\n",
    "        n_cc = Counter(message)\n",
    "        for key in n_cc:\n",
    "            n_cc[key] = 1\n",
    "        cc += n_cc\n",
    "    for key, val in cc.items():\n",
    "        if val > 1:\n",
    "            vocab[key] = pos\n",
    "            pos += 1\n",
    "    return vocab\n",
    "\n",
    "def get_tf_idf_enc(vals, new_df, name):\n",
    "    vocab = get_vocab(vals)\n",
    "    all_freq = []\n",
    "    for val in vals:\n",
    "        all_freq.append(mess_to_vec(vocab, val))\n",
    "    all_freq = np.array(all_freq)\n",
    "    \n",
    "    all_freq = tf_idf(all_freq)\n",
    "    print(all_freq)\n",
    "    reduct = UMAP(densmap=True,\n",
    "                  dens_lambda=1.,\n",
    "                  n_neighbors=10,\n",
    "                  min_dist=0.0,\n",
    "                  n_components=3,\n",
    "                  random_state=42,\n",
    "                  low_memory=False,\n",
    "                  metric='cosine',\n",
    "                  output_metric='euclidean'\n",
    "                  )\n",
    "\n",
    "    umap_res = reduct.fit_transform(all_freq).T\n",
    "    for i in range(len(umap_res)):\n",
    "        new_df[name + f'_umap_{i}'] = umap_res[i]\n",
    "\n",
    "# BERT UMAP\n",
    "def embed_bert_cls(text, model, tokenizer):\n",
    "    t = tokenizer(text, padding=True, truncation=True, return_tensors='pt')\n",
    "    with torch.no_grad():\n",
    "        model_output = model(**{k: v.to(model.device) for k, v in t.items()})\n",
    "    embeddings = model_output.last_hidden_state[:, 0, :]\n",
    "    embeddings = torch.nn.functional.normalize(embeddings)\n",
    "    return embeddings[0].cpu().numpy()\n",
    "\n",
    "def get_bert_enc(X):   \n",
    "    embeddings = []\n",
    "    for sentence in X['all_text']:\n",
    "        embeddings.append(embed_bert_cls(sentence, BERT, TOKENIZER))\n",
    "    embeddings = np.array(embeddings)\n",
    "\n",
    "    reduct = UMAP(densmap=True,\n",
    "                  dens_lambda=1.,\n",
    "                  n_neighbors=10,\n",
    "                  min_dist=0.0,\n",
    "                  n_components=3,\n",
    "                  random_state=42,\n",
    "                  low_memory=False,\n",
    "                  metric='cosine',\n",
    "                  output_metric='euclidean'\n",
    "                  )\n",
    "\n",
    "    umap_res = reduct.fit_transform(embeddings).T\n",
    "    for i in range(len(umap_res)):\n",
    "        X[f'bert_umap_{i}'] = umap_res[i]\n",
    "\n",
    "# КАТЕГОРИАЛЬНЫЕ ПРИЗНАКИ\n",
    "def make_categorical(df, col):\n",
    "    df[col] = pd.Categorical(df[col])\n",
    "    df[col] = df[col].astype('category').cat.codes\n",
    "        \n",
    "# ВСЕ ПРЕОБРАЗОВАНИЯ\n",
    "def apply_technicals(X):\n",
    "    concat_all_text(X)\n",
    "    encode_date(X)\n",
    "    process_coments(X)\n",
    "    get_assignee_info(X)\n",
    "    get_bert_enc(X)\n",
    "    \n",
    "    cat_cols = ['project_id', 'month', 'position', 'hiring_type', 'payment_type']\n",
    "    for column in cat_cols:\n",
    "        make_categorical(X, column)\n",
    "    \n",
    "    vals = [preprocess(word) for word in X.all_text]\n",
    "    get_tf_idf_enc(vals, X, 'summary')\n",
    "    \n",
    "    for field in ['assignee_id', 'creator_id']:\n",
    "        get_stats(df_all, field)\n",
    "    \n",
    "    X['key'] = X.key.apply(lambda x: x.split('-')[1]).astype('int')\n",
    "    X['is_self_assigned'] = np.where(X.assignee_id == X.creator_id, 1, 0)\n",
    "    X['len_summary'] = X['summary'].apply(len)\n",
    "    X.drop(['id', 'summary', 'all_text'], axis=1, inplace=True)"
   ]
  },
  {
   "cell_type": "code",
   "execution_count": null,
   "id": "80cd5f21-c024-4f96-97ec-a2bc4552afba",
   "metadata": {
    "tags": []
   },
   "outputs": [],
   "source": [
    "apply_technicals(df_all)"
   ]
  },
  {
   "cell_type": "code",
   "execution_count": null,
   "id": "d04bbcfe-f857-4a77-818a-c3467a1c23d2",
   "metadata": {},
   "outputs": [],
   "source": [
    "df_all.head(10)"
   ]
  },
  {
   "cell_type": "code",
   "execution_count": 564,
   "id": "62ac5210-a5f4-4a30-a9ae-deca40865eb8",
   "metadata": {},
   "outputs": [],
   "source": [
    "df_test = df_all[df_all.overall_worklogs == -1].copy()\n",
    "df_test.drop('overall_worklogs', axis=1, inplace=True)\n",
    "#df_test.drop(['bert_umap_0', 'bert_umap_1', 'bert_umap_2'], axis=1, inplace=True)"
   ]
  },
  {
   "cell_type": "code",
   "execution_count": 576,
   "id": "c9eaef7b-5609-43df-a2c3-9105ce74accb",
   "metadata": {},
   "outputs": [],
   "source": [
    "df_train = df_all[(df_all.overall_worklogs != -1) & (df_all.overall_worklogs < 2000000)].copy()\n",
    "#df_train.drop('key', axis=1, inplace=True)\n",
    "y = df_train.overall_worklogs\n",
    "y = np.log(y+0.001)\n",
    "X = df_train.drop('overall_worklogs', axis=1)\n",
    "\n",
    "X_train, X_test, y_train, y_test = train_test_split(X, y, test_size=0.25, random_state=42)"
   ]
  },
  {
   "cell_type": "code",
   "execution_count": null,
   "id": "cb28c0f5-a8db-4e57-ab5f-39b54fa852f8",
   "metadata": {
    "jupyter": {
     "source_hidden": true
    },
    "tags": []
   },
   "outputs": [],
   "source": [
    "params = {'learning_rate': 0.1, \n",
    "          'depth': 12, \n",
    "          'l2_leaf_reg': 5, \n",
    "          'loss_function': 'RMSE', \n",
    "          'eval_metric': 'RMSE', \n",
    "          'task_type': 'CPU', \n",
    "          'iterations': 600,\n",
    "          'od_type': 'Iter', \n",
    "          'boosting_type': 'Plain', \n",
    "          'bootstrap_type': 'Bernoulli', \n",
    "          'allow_const_label': True, \n",
    "          'logging_level': 'Silent',\n",
    "          'random_state': 42\n",
    "         }\n",
    "gbt = CatBoostRegressor(**params)#, cat_features=[1,2,3,4,5,6,7,9,10,11,12,13,14,15,16])\n",
    "gbt.fit(X_train, y_train)\n",
    "print(r2_score(gbt.predict(X_train), y_train))\n",
    "print(r2_score(gbt.predict(X_test), y_test))"
   ]
  },
  {
   "cell_type": "code",
   "execution_count": null,
   "id": "caebe6ed-44e2-4870-9014-cba958f47aa3",
   "metadata": {
    "jupyter": {
     "source_hidden": true
    },
    "tags": []
   },
   "outputs": [],
   "source": [
    "feat = pd.Series(gbt.feature_importances_, index=X_train.columns)\n",
    "feat.sort_values(ascending=False)"
   ]
  },
  {
   "cell_type": "code",
   "execution_count": 577,
   "id": "fd06a6e3-39a0-46e7-8715-697090ec17f0",
   "metadata": {},
   "outputs": [
    {
     "name": "stdout",
     "output_type": "stream",
     "text": [
      "[500]\ttrain's l2: 1.27419\ttrain's r2: 0.157471\tval's l2: 1.31643\tval's r2: 0.143039\n",
      "[1000]\ttrain's l2: 1.15795\ttrain's r2: 0.234332\tval's l2: 1.2184\tval's r2: 0.206853\n",
      "[1500]\ttrain's l2: 1.08392\ttrain's r2: 0.283279\tval's l2: 1.16248\tval's r2: 0.243259\n",
      "[2000]\ttrain's l2: 1.03084\ttrain's r2: 0.318381\tval's l2: 1.13116\tval's r2: 0.263642\n",
      "[2500]\ttrain's l2: 0.988061\ttrain's r2: 0.346666\tval's l2: 1.11187\tval's r2: 0.2762\n",
      "[3000]\ttrain's l2: 0.952313\ttrain's r2: 0.370304\tval's l2: 1.09974\tval's r2: 0.284096\n",
      "[3500]\ttrain's l2: 0.921459\ttrain's r2: 0.390705\tval's l2: 1.09178\tval's r2: 0.289277\n"
     ]
    }
   ],
   "source": [
    "lgbm = lightgbm.LGBMRegressor(num_leaves=30, n_estimators=3500, learning_rate=0.001)\n",
    "lgbm = lgbm.fit(X_train, y_train,\n",
    "                            eval_set=[(X_train, y_train), (X_test, y_test)],\n",
    "                            eval_names=['train', 'val'], eval_metric=lgbm_r2, callbacks=[lightgbm.log_evaluation(500)])"
   ]
  },
  {
   "cell_type": "code",
   "execution_count": 607,
   "id": "df5bb815-509e-481c-ad28-e51a6e58bca6",
   "metadata": {
    "tags": []
   },
   "outputs": [
    {
     "data": {
      "text/plain": [
       "key                           11416\n",
       "comments_len                   8733\n",
       "bert_umap_2                    8304\n",
       "month                          7260\n",
       "bert_umap_0                    6886\n",
       "bert_umap_1                    6399\n",
       "len_summary                    5847\n",
       "assignee_median_time           4882\n",
       "summary_umap_2                 4430\n",
       "summary_umap_0                 4304\n",
       "summary_umap_1                 4252\n",
       "comments_count                 3129\n",
       "day                            2883\n",
       "assignee_mean_time             2801\n",
       "hour                           2431\n",
       "creator_median_time            2219\n",
       "creator_max_time               2172\n",
       "assignee_max_time              1802\n",
       "creator_id                     1782\n",
       "is_self_assigned               1420\n",
       "assignee_id                    1411\n",
       "project_id                     1232\n",
       "creator_mean_time              1023\n",
       "assignee_min_time               943\n",
       "creator_std_time                880\n",
       "creator_min_time                697\n",
       "assignee_std_time               622\n",
       "day_of_week                     570\n",
       "position                        468\n",
       "payment_type                    163\n",
       "passport                         68\n",
       "is_labor_contract_signed         65\n",
       "hiring_type                       5\n",
       "is_added_one_to_one               1\n",
       "is_added_to_internal_chats        0\n",
       "is_nda_signed                     0\n",
       "dtype: int32"
      ]
     },
     "execution_count": 607,
     "metadata": {},
     "output_type": "execute_result"
    }
   ],
   "source": [
    "lgbm_feat = pd.Series(lgbm.feature_importances_, index=X_train.columns)\n",
    "lgbm_feat.sort_values(ascending=False)"
   ]
  },
  {
   "cell_type": "code",
   "execution_count": 601,
   "id": "3f24f393-9d87-406c-8a68-4f3f7f5eb779",
   "metadata": {},
   "outputs": [],
   "source": [
    "res_val_df = pd.DataFrame(np.exp(y_test))\n",
    "res_val_df['pred'] = np.exp(lgbm.predict(X_test))"
   ]
  },
  {
   "cell_type": "code",
   "execution_count": 605,
   "id": "e5361f0c-696f-4bbe-b7c7-065b4b40bc21",
   "metadata": {},
   "outputs": [
    {
     "data": {
      "text/plain": [
       "key                           7.139000e+03\n",
       "project_id                    1.000000e+00\n",
       "assignee_id                   1.490000e+02\n",
       "creator_id                    1.000000e+00\n",
       "overall_worklogs              3.414000e+05\n",
       "day                           1.600000e+01\n",
       "month                         3.000000e+01\n",
       "hour                          1.000000e+01\n",
       "day_of_week                   0.000000e+00\n",
       "comments_count                0.000000e+00\n",
       "comments_len                  3.000000e+00\n",
       "position                      4.000000e+00\n",
       "hiring_type                   2.000000e+00\n",
       "payment_type                  2.000000e+00\n",
       "passport                      0.000000e+00\n",
       "is_nda_signed                 0.000000e+00\n",
       "is_labor_contract_signed      0.000000e+00\n",
       "is_added_to_internal_chats    0.000000e+00\n",
       "is_added_one_to_one           0.000000e+00\n",
       "bert_umap_0                  -3.020073e-01\n",
       "bert_umap_1                   6.870250e+00\n",
       "bert_umap_2                   7.244742e+00\n",
       "summary_umap_0                9.810066e+00\n",
       "summary_umap_1                5.419865e+00\n",
       "summary_umap_2                1.366580e+00\n",
       "is_self_assigned              0.000000e+00\n",
       "len_summary                   4.100000e+01\n",
       "assignee_min_time             1.200000e+03\n",
       "assignee_max_time             5.079000e+05\n",
       "assignee_mean_time            6.868421e+04\n",
       "assignee_median_time          2.571000e+04\n",
       "assignee_std_time             1.141986e+05\n",
       "creator_min_time              1.200000e+02\n",
       "creator_max_time              1.315200e+06\n",
       "creator_mean_time             1.708687e+04\n",
       "creator_median_time           7.200000e+03\n",
       "creator_std_time              5.492321e+04\n",
       "Name: 5841, dtype: float64"
      ]
     },
     "execution_count": 605,
     "metadata": {},
     "output_type": "execute_result"
    }
   ],
   "source": [
    "df_all.loc[5841]"
   ]
  },
  {
   "cell_type": "code",
   "execution_count": 610,
   "id": "7cc15e65-1b0a-4198-b287-05ad8f0a80af",
   "metadata": {},
   "outputs": [
    {
     "data": {
      "text/html": [
       "<div>\n",
       "<style scoped>\n",
       "    .dataframe tbody tr th:only-of-type {\n",
       "        vertical-align: middle;\n",
       "    }\n",
       "\n",
       "    .dataframe tbody tr th {\n",
       "        vertical-align: top;\n",
       "    }\n",
       "\n",
       "    .dataframe thead th {\n",
       "        text-align: right;\n",
       "    }\n",
       "</style>\n",
       "<table border=\"1\" class=\"dataframe\">\n",
       "  <thead>\n",
       "    <tr style=\"text-align: right;\">\n",
       "      <th></th>\n",
       "      <th>overall_worklogs</th>\n",
       "      <th>pred</th>\n",
       "    </tr>\n",
       "  </thead>\n",
       "  <tbody>\n",
       "    <tr>\n",
       "      <th>count</th>\n",
       "      <td>2397.000000</td>\n",
       "      <td>2397.000000</td>\n",
       "    </tr>\n",
       "    <tr>\n",
       "      <th>mean</th>\n",
       "      <td>14604.406507</td>\n",
       "      <td>8393.415941</td>\n",
       "    </tr>\n",
       "    <tr>\n",
       "      <th>std</th>\n",
       "      <td>33718.880108</td>\n",
       "      <td>8474.081889</td>\n",
       "    </tr>\n",
       "    <tr>\n",
       "      <th>min</th>\n",
       "      <td>60.001000</td>\n",
       "      <td>853.386768</td>\n",
       "    </tr>\n",
       "    <tr>\n",
       "      <th>25%</th>\n",
       "      <td>3000.001000</td>\n",
       "      <td>5060.987411</td>\n",
       "    </tr>\n",
       "    <tr>\n",
       "      <th>50%</th>\n",
       "      <td>7200.001000</td>\n",
       "      <td>6512.935430</td>\n",
       "    </tr>\n",
       "    <tr>\n",
       "      <th>75%</th>\n",
       "      <td>14400.001000</td>\n",
       "      <td>8538.602699</td>\n",
       "    </tr>\n",
       "    <tr>\n",
       "      <th>max</th>\n",
       "      <td>594600.001000</td>\n",
       "      <td>120601.168760</td>\n",
       "    </tr>\n",
       "  </tbody>\n",
       "</table>\n",
       "</div>"
      ],
      "text/plain": [
       "       overall_worklogs           pred\n",
       "count       2397.000000    2397.000000\n",
       "mean       14604.406507    8393.415941\n",
       "std        33718.880108    8474.081889\n",
       "min           60.001000     853.386768\n",
       "25%         3000.001000    5060.987411\n",
       "50%         7200.001000    6512.935430\n",
       "75%        14400.001000    8538.602699\n",
       "max       594600.001000  120601.168760"
      ]
     },
     "execution_count": 610,
     "metadata": {},
     "output_type": "execute_result"
    }
   ],
   "source": [
    "res_val_df.describe()"
   ]
  },
  {
   "cell_type": "code",
   "execution_count": 581,
   "id": "3639bce3-bba5-464f-9d59-cbfc1fe23c07",
   "metadata": {},
   "outputs": [
    {
     "data": {
      "text/plain": [
       "0.13065615293514132"
      ]
     },
     "execution_count": 581,
     "metadata": {},
     "output_type": "execute_result"
    }
   ],
   "source": [
    "r2_score(np.exp(y_test), np.exp(lgbm.predict(X_test)))"
   ]
  },
  {
   "cell_type": "code",
   "execution_count": 523,
   "id": "08ae8e3f-0cca-458d-8840-6e0b6e190b7c",
   "metadata": {},
   "outputs": [
    {
     "data": {
      "text/plain": [
       "<AxesSubplot:xlabel='overall_worklogs', ylabel='Count'>"
      ]
     },
     "execution_count": 523,
     "metadata": {},
     "output_type": "execute_result"
    },
    {
     "data": {
      "image/png": "[encoded data removed]",
      "text/plain": [
       "<Figure size 1440x504 with 1 Axes>"
      ]
     },
     "metadata": {
      "needs_background": "light"
     },
     "output_type": "display_data"
    }
   ],
   "source": [
    "plt.figure(figsize=(20,7))\n",
    "sns.histplot(df_train.overall_worklogs)"
   ]
  },
  {
   "cell_type": "code",
   "execution_count": 580,
   "id": "15b0fff4-b3f1-4035-804c-890246c93c51",
   "metadata": {},
   "outputs": [
    {
     "data": {
      "text/plain": [
       "<AxesSubplot:ylabel='Count'>"
      ]
     },
     "execution_count": 580,
     "metadata": {},
     "output_type": "execute_result"
    },
    {
     "data": {
      "image/png": "[encoded data removed]",
      "text/plain": [
       "<Figure size 1440x504 with 1 Axes>"
      ]
     },
     "metadata": {
      "needs_background": "light"
     },
     "output_type": "display_data"
    }
   ],
   "source": [
    "plt.figure(figsize=(20,7))\n",
    "#sns.histplot(lgbm.predict(X_test))\n",
    "sns.histplot(np.exp(lgbm.predict(X_test)))"
   ]
  },
  {
   "cell_type": "code",
   "execution_count": 578,
   "id": "bc06c7e5-cef6-478e-a244-2a2f570494a9",
   "metadata": {},
   "outputs": [
    {
     "data": {
      "text/plain": [
       "<AxesSubplot:xlabel='overall_worklogs', ylabel='Count'>"
      ]
     },
     "execution_count": 578,
     "metadata": {},
     "output_type": "execute_result"
    },
    {
     "data": {
      "image/png": "[encoded data removed]",
      "text/plain": [
       "<Figure size 1440x504 with 1 Axes>"
      ]
     },
     "metadata": {
      "needs_background": "light"
     },
     "output_type": "display_data"
    }
   ],
   "source": [
    "plt.figure(figsize=(20,7))\n",
    "sns.histplot(np.exp(y_test))"
   ]
  },
  {
   "cell_type": "code",
   "execution_count": null,
   "id": "87e472cf-088d-4a36-b065-8368d7fce45b",
   "metadata": {},
   "outputs": [],
   "source": []
  },
  {
   "cell_type": "code",
   "execution_count": 608,
   "id": "1fac2621-067e-4300-bcd3-943c85c82b83",
   "metadata": {},
   "outputs": [],
   "source": [
    "pred = lgbm.predict(df_test)\n",
    "pred = np.where(pred<0, 600, pred)\n",
    "pred = np.exp(pred)"
   ]
  },
  {
   "cell_type": "code",
   "execution_count": 609,
   "id": "2606fa85-2fc7-4e9c-a39a-3723ff168d5a",
   "metadata": {},
   "outputs": [],
   "source": [
    "ind_df = pd.read_csv('data/solution_01.csv')\n",
    "solution = pd.DataFrame({'overall_worklogs': pred}, index=ind_df.id)\n",
    "solution.to_csv('data/solution_07.csv')"
   ]
  },
  {
   "cell_type": "code",
   "execution_count": null,
   "id": "b52526ee-a284-47b4-9d79-905af8d16a16",
   "metadata": {},
   "outputs": [],
   "source": [
    "def lgbm_r2(y_true, y_pred):\n",
    "    return 'r2', r2_score(y_true, y_pred), True"
   ]
  },
  {
   "cell_type": "code",
   "execution_count": null,
   "id": "26b0002e-8ab4-412f-b6fa-5b3bc9c09499",
   "metadata": {},
   "outputs": [],
   "source": [
    "val_pred = pd.Series(lgbm.predict(X_test))\n",
    "val_pred = np.where(val_pred<0, 600, val_pred)\n",
    "val_pred"
   ]
  },
  {
   "cell_type": "code",
   "execution_count": null,
   "id": "022da3de-4bd3-4d82-bae5-ad680524296e",
   "metadata": {},
   "outputs": [],
   "source": [
    "val_pred.min()"
   ]
  },
  {
   "cell_type": "code",
   "execution_count": null,
   "id": "e177ecce-bac6-4a1c-b36a-043f7c9d03a5",
   "metadata": {},
   "outputs": [],
   "source": [
    "r2_score(y_test, val_pred)"
   ]
  },
  {
   "cell_type": "code",
   "execution_count": null,
   "id": "8d198ee5-9462-45ad-a694-7b96b87eb7da",
   "metadata": {},
   "outputs": [],
   "source": [
    "sns.clustermap(np.abs(df_train.corr('spearman')), figsize=(25, 25), annot=True)\n",
    "plt.show()"
   ]
  },
  {
   "cell_type": "code",
   "execution_count": 617,
   "id": "2dea33f1-3ec3-4ad1-a6be-70557af2bc54",
   "metadata": {},
   "outputs": [],
   "source": [
    "com_df = pd.merge(df_issues_train, df_comment_train, left_on=\"id\", right_on=\"issue_id\", how='left')\n",
    "com_df.text = com_df.text.fillna('')\n",
    "all_comments = {}\n",
    "for val in com_df[:50].id:\n",
    "    all_text[val] = com_df[com_df.id == val].summary.iloc[0]\n",
    "    all_text[val] += ' '.join([text for text in com_df[com_df.id == val].text.values])\n",
    "    "
   ]
  },
  {
   "cell_type": "code",
   "execution_count": null,
   "id": "73a13a7a-171b-4a0c-87f1-e8397e9f3ccf",
   "metadata": {},
   "outputs": [],
   "source": [
    "com_df[com_df.text.str.contains('later|tomorrow|завтра|потом')].overall_worklogs.median()"
   ]
  },
  {
   "cell_type": "code",
   "execution_count": null,
   "id": "9c9be851-7194-421a-999d-912ae9ec6a75",
   "metadata": {},
   "outputs": [],
   "source": [
    "com_df.info()"
   ]
  },
  {
   "cell_type": "code",
   "execution_count": 618,
   "id": "7107aaea-0eb4-4be4-a9eb-25e9e3d8acb9",
   "metadata": {},
   "outputs": [
    {
     "data": {
      "text/plain": [
       "{819952: 'UI тесты по заказу \"Добро КейДжи\"',\n",
       " 819949: 'UI тесты раздела \"Профиль\"Приверила и приняла MR\\n\\n\\xa0',\n",
       " 819947: 'UI тесты раздела \"Личный счет\"',\n",
       " 819943: 'UI тесты раздела \"Новости\"',\n",
       " 819941: 'UI тесты раздела \"Зоны скидок и доплат\"Приняла mR',\n",
       " 819938: 'UI тесты раздела \"Чат со службой поддержки\"Приняла MR',\n",
       " 819935: 'UI тесты раздела \"Помощь\"',\n",
       " 819933: 'Сделать разделение по мобильным операторамДобавил возможность отправлять требуемому оператору согласно префиксу номера. Коммит:\\xa0[https://gitlab.com/TaxiNamba/taxi-sms-go/tree/NT-10686__Mobile_Ops] Код в репо есть. Ссылка на коммит не ссылка на коммит. Задача выполнена',\n",
       " 819931: 'UI тесты раздела \"Тур по приложению\"',\n",
       " 819927: 'UI тесты разделов \"О системе\" и \"Рассказать друзьям\"',\n",
       " 819924: 'Не отрабатывает cdr_calc_durations[~mursidinovz] По поводу сентри почитай доку как настроить логирование ошибок для сентри там вроде как то по особенному настраивается  Ошибка оказалась не в коде, а в неправильных путях к задачам в селери. Ошибка была в том что они переместили задачу в другое место, но забыли поменять путь в админке С Саней изменили путь к задаче и все заработало без ошибок.',\n",
       " 819921: 'Пофиксить краш прилы (NegativeArraySizeException)',\n",
       " 819919: 'Сделать мьютекс для изменния баланса водителяhttps://gitlab.com/TaxiNamba/taxi-dashboard/merge_requests/585',\n",
       " 819917: 'Собрать водительскую прилу с измененным id версии (0.4.29)Для того, чтоб собрать билд APK для водителей, которые работают в других службах,\\xa0\\nнужно просто выбрать build variant prod_partners и собрать signed APK Прила собрана и протестирована, передал в транспортный отдел - сотруднику Ынтызару',\n",
       " 819912: 'Фидбек от ЧакаНужно проверить историю заказа и посмотреть, возможно операторы что-то натворили и после того как проверим, передать мобильщикам, если нужно Описание не понятное вообще.\\nЧто можно сделать по этому тикету? Ничего, так как непонятно что было. Где и что проверять не понятно. Почему могло так произойти, так же не понятно. Возможно оператор сам закрыл заказ потому что не добросовестный. Ни дат, ни id заказа, ни номера Чака.\\n\\nТикет закрываю так как ничего непонятно. Схожих проблем более не было Почему бы просто не спросить ID заказа у Чака? Или хотя бы номер телефона с датой? Номер Чака - 0557127001\\n\\nна скрине - время случившейся проблемы - 1 октября примерно в 20:30\\n\\nЭтих данных достаточно чтобы проверит не напутали ли чего операторы\\n\\n[~alexander.astashov] проверь пожалуйста чтобы мы точно знали - это баг прилы или операторский косяк\\n[~Aisa Tashmatova] тебе выговор за бестолковый баг-репорт без ключевых данных\\n\\n!Screen Shot 2019-10-18 at 08.13.53.png! Просмотрев историю заказов, выяснил:\\nБыло 3 отклоненных заказа\\n\\n||id заказа||Причина отклонения заказа||резолюция||\\n|165082352|Прочее| Отклонен оператором без обработки заказа|\\n|165082412|Прочее| Принял борт 505, через 5 мин был на месте, через 13 минут клиент был на борту и через 2 секунды был отменен бортом|\\n|165085262|По желанию клиента| Отклонен без обработки заказа|\\n\\nИ клиент все же был доставлен бортом 505 в новом заказе. Все 4 заказа были созданы клиентом.\\n\\nИтого:\\nЛибо паника, либо халатность операторов вызвали такое поведение Задачу закрываю. Аномалия которая пока не повторялась',\n",
       " 819910: 'Проверка баланса клиента при смене номера телефона в заказе',\n",
       " 819906: 'FieldDescriptor.java line 295Вчера когда тестировала badgeCount я вызвала тот же метод внутри getUnreadMessageCount() и запустила. По этой причине и появился эта ошибка ок-ся( Не актуальный крав закрываю тикет',\n",
       " 819903: 'Переделать отчет под новый формат (taxi-corp-site)gitlab\\nhttps://gitlab.com/TaxiNamba/taxi-corp-site/merge_requests/45\\n',\n",
       " 819896: 'У борта не обновились деньги после загрузки через терминалПока реализовал только эмулятор терминалов\\n\\nhttps://gitlab.com/TaxiNamba/taxi-dashboard/merge_requests/594 MR на рефактор\\n\\nhttps://gitlab.com/TaxiNamba/taxi-dashboard/merge_requests/595\\n\\nВ чем была проблема, предположительно, при обновлении код пытался получить лок заново, что было ошибкой, так как лок уже есть :( Принял изменения \\n\\nЗадеплоили в сборке дашборды 3431',\n",
       " 819889: 'Sprint 70Старый сабтаск. Закрываю',\n",
       " 819886: 'Релиз NambaTaxi Client iOS 4.31.26Зарелизила приложение намба такси клиентской с версией 4,31,26(25) Релиз на проде \\xa029 октября',\n",
       " 819883: 'DataStorage.java line 220тикет не актуален, изменения не приняла',\n",
       " 819882: 'Table.java line 682',\n",
       " 819880: 'Написать документацию на фикс ошибки с взятием двух заказов одним водителемСсылка на документацию\\nhttps://docs.google.com/document/d/1n8W3QhaOJx-ITgrAg95a6jTM_pfOu-sZpg6F6rBkj7s/edit Принял задачу Ваниша Добавили документацию в проект',\n",
       " 819877: 'Переделать отчет под новый формат (taxi-dashboard)gitlab\\nhttps://gitlab.com/TaxiNamba/taxi-dashboard/merge_requests/591',\n",
       " 819875: 'Добавить новые поля в отчет \"акт сверки\" (taxi-dashboard)Новые поля которые появились \\n\\n{code:python}\\ncode = models.ForeignKey(\\'taxi.CorporateCode\\', null=True, blank=True)\\n    corporate_total_cost = models.DecimalField(ugettext_lazy(\\'Итоговая сумма с комисиями\\'), decimal_places=2, max_digits=7, default=0)\\n    corporate_company_commission = models.PositiveSmallIntegerField(\\n        ugettext_lazy(\\'Комиссия корп. компании\\'),\\n        default=0,\\n        help_text=ugettext_lazy(\\'Комиссия корп. компании на момент создания заказа\\'),\\n    )\\n    corporate_tax_vat_rate = models.PositiveSmallIntegerField(\\n        ugettext_lazy(\\'НДС\\'),\\n        default=0,\\n        help_text=ugettext_lazy(\\'НДС компании на момент создания заказа\\'),\\n    )\\n    corporate_tax_retail_rate = models.PositiveSmallIntegerField(\\n        ugettext_lazy(\\'НСП\\'),\\n        default=0,\\n        help_text=ugettext_lazy(\\'НСП компании на момент создания заказа\\'),\\n    )\\n{code}\\n Помогал женишу разбираться с логикой работы корп заказов\\n\\nМР https://gitlab.com/TaxiNamba/taxi-dashboard/merge_requests/589  !screenshot-1.png|! \\n\\nПодправил отчет после проверки Чолпон https://gitlab.com/TaxiNamba/taxi-dashboard/merge_requests/610',\n",
       " 819871: 'Модифицировать логику работы со стоимостью корп заказа (taxi-dashboard))',\n",
       " 819868: 'Sprint  70Старый сабтаск. Закрываю',\n",
       " 819863: 'Релиз NambaTaxi Client Android 5.2.53Samsung A6\\nAndroid 8\\n\\nВ данном релизе есть 2 ошибки\\n\\n1. Если оператор подтверждает заказ, в клиентском приложении заказ активно не обрабатывается. После подтверждения заказа, заказ как есть в обработке, так и остается. Если свернуть приложение и открыть - то актуальный статус заказа отображается.\\n\\n2. Если клиент отменяет заказ до того, как водитель приехал, т.е. на статусе \"Машина в пути\", то в водительском приложении данный кейс не обрабатывается правильно. Заказ в водительском приложении остается, как активный.\\n\\nСкринкаст двух проблем здесь -  [^VIDEO-2019-11-01-16-48-10.mp4]  NT-10890 - Фидбек по смене статуса заказа в NT client android 5.2.53(150)\\n\\n\\xa0 {noformat}\\n1. Если оператор подтверждает заказ, в клиентском приложении заказ активно не обрабатывается. После подтверждения заказа, заказ как есть в обработке, так и остается. Если свернуть приложение и открыть - то актуальный статус заказа отображается.{noformat}\\nпо этому фидбеку разбиралась в коде и обнаружила, что были добавлены изменения в коде Элдаром, где он при создании заказа перестает делать запросы\\xa0 на бэк для *GetOrderStatus*\\nубрала его код, я, протестировала, и добавила отмену на запрос по getOrderStatus только при отмене заказа, все работает! Зарелизили приложение в прод',\n",
       " 819855: 'Настроить процессы для всей команды',\n",
       " 819852: 'Написать резюме по встрече с кастомерами* Описал резюме по итогам встречи [https://docs.google.com/document/d/1sftHG3LtXz6PPky8qMs0kU4P5XnrPLcZF2bf6NQC9mY/edit?usp=sharing]\\xa0'}"
      ]
     },
     "execution_count": 618,
     "metadata": {},
     "output_type": "execute_result"
    }
   ],
   "source": [
    "all_text"
   ]
  },
  {
   "cell_type": "code",
   "execution_count": null,
   "id": "e808cef9-886f-4070-ad2d-7a5bd3674543",
   "metadata": {},
   "outputs": [],
   "source": []
  }
 ],
 "metadata": {
  "kernelspec": {
   "display_name": "Python 3 (ipykernel)",
   "language": "python",
   "name": "python3"
  },
  "language_info": {
   "codemirror_mode": {
    "name": "ipython",
    "version": 3
   },
   "file_extension": ".py",
   "mimetype": "text/x-python",
   "name": "python",
   "nbconvert_exporter": "python",
   "pygments_lexer": "ipython3",
   "version": "3.8.3"
  }
 },
 "nbformat": 4,
 "nbformat_minor": 5
}
